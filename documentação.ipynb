{
 "cells": [
  {
   "cell_type": "markdown",
   "metadata": {},
   "source": [
    "<h2 align=\"center\">Teste de conhecimentos para vaga de estágio em TI Rocky</h2>"
   ]
  },
  {
   "cell_type": "markdown",
   "metadata": {},
   "source": [
    "### Descrição\n",
    "<p>O contexto do teste é uma atualização de sistema que \"quebrou\" o banco de dados, alterando algumas letras por caracteres, alterando o formato dos preços e removendo valores de quantidade de estoque.\n",
    "\n",
    "No teste deve-se tratar estes erros, pode-se utilizar liguagem python ou javascript. A minha escolha foi o Python pela familiaridade que tenho com a linguagem e pela facilidade que a liguagem traz para a manipulação de dados.</p>"
   ]
  },
  {
   "cell_type": "markdown",
   "metadata": {},
   "source": [
    "### Utilizei para este script:\n",
    "\n",
    "* Python 3.8\n",
    "* Pandas\n",
    "* NumPy\n",
    "* VS Code\n",
    "* Jupyter Notebook"
   ]
  },
  {
   "cell_type": "markdown",
   "metadata": {},
   "source": [
    "### Explicação do script - Tratamento"
   ]
  },
  {
   "cell_type": "markdown",
   "metadata": {},
   "source": [
    "##### Importação das bibliotecas pandas e numpy:\n",
    "\n",
    "```\n",
    "import pandas as pd\n",
    "import numpy as np\n",
    "```"
   ]
  },
  {
   "cell_type": "markdown",
   "metadata": {},
   "source": [
    "##### Função de leitura de dados\n",
    "Definição da função de leitura do arquivo json, o pandas tem um metodo de leitura para cada tipo de arquivo, tranformando o resuldado em um DataFrame, que é uma estrutura propria do pandas, esta função retorna este DataFrame que será utilizado nas outras funções. Esta função tem um tratamento de erros, se por algum motivo o script não encotrar o arquivo ou não conseguir abri-lo, o script retorna-ra uma mensagem avisando. \n",
    "\n",
    "```\n",
    "def read_data():\n",
    "    return pd.read_json(\"broken-database.txt\")\n",
    "```"
   ]
  },
  {
   "cell_type": "markdown",
   "metadata": {},
   "source": [
    "##### Função de correção dos nomes\n",
    "Para a correção de nomes foi utilizada a função replace da estrutura DataFrame, para esta função funcionar podemos definir um dicionario, onde a chave é o que será removido, e o valor o novo paramentro que ficará, esta fução troca os valores existentes nos dados pelos parametros passados com base neste dicionário, para troca apenas dos caracteres incorretos podemos passar o parametro \"regex=True\" para a função, que alterara apenas os caracteres. Passamos ainda o parametro \"inplace=True\" para manter as alterações feitas.\n",
    "\n",
    "```\n",
    "def correct_names(data):\n",
    "    replace_dict = {\"æ\":\"a\", \"¢\":\"c\",\"ø\":\"o\",\"ß\":\"b\"}\n",
    "    data[\"name\"].replace(to_replace=replace_dict, regex=True, inplace=True)\n",
    "```"
   ]
  },
  {
   "cell_type": "markdown",
   "metadata": {},
   "source": [
    "##### Função de correção de preços\n",
    "\n",
    "Para esta função, utilizamos uma função de que converte o tipo de um dado especifico pelo passado como parametro da função, neste caso tinhamos valores salvos como string e o convertemos para tipo float por se tratar de preços.\n",
    "\n",
    "\n",
    "```\n",
    "def correct_price(data):\n",
    "    data[\"price\"].astype(np.float64)\n",
    "```"
   ]
  },
  {
   "cell_type": "markdown",
   "metadata": {},
   "source": [
    "##### Função de correção da quantidade\n",
    "\n",
    "Aqui utilizamos uma função dos pandas que preenche valos não numericos NaN, Null pelo valor passado como parametro, neste caso queriamos preencher com zeros\n",
    "\n",
    "```\n",
    "def correct_quantity(data):\n",
    "    data[\"quantity\"] = data[\"quantity\"].fillna(0)\n",
    "```"
   ]
  },
  {
   "cell_type": "markdown",
   "metadata": {},
   "source": [
    "##### Função de exportação de dados\n",
    "\n",
    "Assim como para a leitura, o pandas possui um infinidade de extesões para as quais podemos exportar nossos dados após a finalização do tratamento, neste caso queremos exportar para json mesmo.\n",
    "\n",
    "```\n",
    "def export_json(data):\n",
    "    data.to_json(\"saida.json\", orient=\"records\")\n",
    "```"
   ]
  },
  {
   "cell_type": "markdown",
   "metadata": {},
   "source": [
    "### Explicação do script - Validação"
   ]
  },
  {
   "cell_type": "markdown",
   "metadata": {},
   "source": [
    "##### Função de leitura do banco de dados correto\n",
    "\n",
    "Para a validação é preciso fazer uma nova leitura dos dados, mas agora com o arquivo com os dados corrigidos. O arquivo saída.json, da mesma forma como na primeira função de leitura, esta função retorna dos dados em um formato de DataFrame que será utilizado nas funções seguintes.\n",
    "\n",
    "```\n",
    "def read_correct_data():\n",
    "    return pd.read_json(\"saida.json\")\n",
    "\n",
    "```"
   ]
  },
  {
   "cell_type": "markdown",
   "metadata": {},
   "source": [
    "##### Função para imprimir os produtos\n",
    "\n",
    "Para uma primeira validação é necessário imprimir a lista de produtos ordenados primeiramente por categoria e logo após por id, aqui utilizei a função sort_values do pandas, é só passar uma lista com os nomes das colunas pelas quais quero ordenar os dados que esta função retorna o dataframe como queremos, para manter estas alterações passamos como parametro também \"inplace=True\", depois só precisamos printar estes dados na tela.\n",
    "\n",
    "```\n",
    "def print_list_of_products(data):\n",
    "    data.sort_values(by=[\"category\", \"id\"], inplace=True)\n",
    "    print(\"\\n\\n\", data, \"\\n\\n\")\n",
    "```"
   ]
  },
  {
   "cell_type": "markdown",
   "metadata": {},
   "source": [
    "##### Função para soma de estoque agrupado por categoria\n",
    "Esta função pede para que somemos os valores dos produtos em estoque para cada categoria, para isso é necessários sabermos os valores totais de cada produto, multiplicando suas quantidade no estoque pelo preço unitário, criei uma nova coluna para armazenar estes valores. \n",
    "Com os valores totais de cada produto já contabilizado, utilizei a função groupby, que primeiramente agrupa os dados pelo parametro que passei, no caso a coluna \"category\", logo após pego os valores totais de cada produto e aplico a função sum(), que vai somar os totais de cada categoria. Com os dados prontos só preciso imprimi-los na tela.\n",
    "\n",
    "```\n",
    "def print_total_of_categories(data):\n",
    "    data[\"total_supply\"] = data[\"quantity\"] * data[\"price\"]\n",
    "    print(data.groupby(\"category\")[\"total_supply\"].sum(), \"\\n\\n\")\n",
    "```"
   ]
  },
  {
   "cell_type": "markdown",
   "metadata": {},
   "source": [
    "##### A função main\n",
    "\n",
    "A função main é a que roda quando o script é inicializado, esta função é responsável por chamar cada função criada anteriormente, para não haver erros cada função de leitura de arquivo tem um tratamento de erros para caso não consiga encontrar o arquivo na pasta especificada, avisando o usuário sobre o erro.\n",
    "\n",
    "```\n",
    "def main():\n",
    "    data = read_data()\n",
    "    correct_names(data)\n",
    "    correct_price(data)\n",
    "    correct_quantity(data)\n",
    "    export_json(data)\n",
    "\n",
    "    correct_data = read_correct_data()\n",
    "    print_list_of_products(correct_data)\n",
    "    print_total_of_categories(correct_data)\n",
    "```"
   ]
  }
 ],
 "metadata": {
  "kernelspec": {
   "display_name": "Python 3",
   "language": "python",
   "name": "python3"
  },
  "language_info": {
   "codemirror_mode": {
    "name": "ipython",
    "version": 3
   },
   "file_extension": ".py",
   "mimetype": "text/x-python",
   "name": "python",
   "nbconvert_exporter": "python",
   "pygments_lexer": "ipython3",
   "version": "3.8.5"
  }
 },
 "nbformat": 4,
 "nbformat_minor": 4
}
