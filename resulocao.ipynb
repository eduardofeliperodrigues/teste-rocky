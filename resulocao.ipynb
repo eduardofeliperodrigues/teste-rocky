{
 "metadata": {
  "language_info": {
   "codemirror_mode": {
    "name": "ipython",
    "version": 3
   },
   "file_extension": ".py",
   "mimetype": "text/x-python",
   "name": "python",
   "nbconvert_exporter": "python",
   "pygments_lexer": "ipython3",
   "version": "3.8.5-final"
  },
  "orig_nbformat": 2,
  "kernelspec": {
   "name": "python3",
   "display_name": "Python 3",
   "language": "python"
  }
 },
 "nbformat": 4,
 "nbformat_minor": 2,
 "cells": [
  {
   "cell_type": "code",
   "execution_count": 93,
   "metadata": {},
   "outputs": [],
   "source": [
    "import pandas as pd\n",
    "import numpy as np"
   ]
  },
  {
   "cell_type": "code",
   "execution_count": 94,
   "metadata": {},
   "outputs": [],
   "source": [
    "data = pd.read_json(\"broken-database.txt\")"
   ]
  },
  {
   "cell_type": "code",
   "execution_count": 69,
   "metadata": {},
   "outputs": [],
   "source": []
  },
  {
   "cell_type": "code",
   "execution_count": 95,
   "metadata": {},
   "outputs": [],
   "source": [
    "replace_dict = {\"æ\":\"a\", \"¢\":\"c\",\"ø\":\"o\",\"ß\":\"b\"}\n",
    "data[\"name\"].replace(to_replace=replace_dict, regex=True, inplace=True)"
   ]
  },
  {
   "cell_type": "code",
   "execution_count": 96,
   "metadata": {},
   "outputs": [
    {
     "output_type": "execute_result",
     "data": {
      "text/plain": [
       "0      192.84\n",
       "1     3719.70\n",
       "2     3880.23\n",
       "3     1419.00\n",
       "4      358.77\n",
       "5     5799.42\n",
       "6     2199.00\n",
       "7    25599.00\n",
       "8     1559.40\n",
       "9      699.00\n",
       "Name: price, dtype: float64"
      ]
     },
     "metadata": {},
     "execution_count": 96
    }
   ],
   "source": [
    "data[\"price\"].astype(np.float64)"
   ]
  },
  {
   "cell_type": "code",
   "execution_count": 97,
   "metadata": {},
   "outputs": [],
   "source": [
    "data[\"quantity\"] = data[\"quantity\"].fillna(0)"
   ]
  },
  {
   "cell_type": "code",
   "execution_count": 98,
   "metadata": {},
   "outputs": [],
   "source": [
    "data.to_json(\"recovered-database.json\", orient=\"records\")"
   ]
  }
 ]
}